{
 "cells": [
  {
   "cell_type": "code",
   "execution_count": 1,
   "metadata": {},
   "outputs": [],
   "source": [
    "import rasterio\n",
    "import numpy as np\n",
    "from PIL import Image"
   ]
  },
  {
   "cell_type": "code",
   "execution_count": 7,
   "metadata": {},
   "outputs": [
    {
     "name": "stdout",
     "output_type": "stream",
     "text": [
      "Band 1 contains data with shape (8188, 9164)\n",
      "Band 2 contains data with shape (8188, 9164)\n",
      "Band 3 contains data with shape (8188, 9164)\n"
     ]
    }
   ],
   "source": [
    "file_path = \"/home/nojima/open_earth_map/OpenEarthMap_wo/asahi/images/asahi_2022-01_10.tif\"\n",
    "with rasterio.open(file_path) as src:\n",
    "    for i in range(1,src.count + 1):\n",
    "        band = src.read(i)\n",
    "        print(f'Band {i} contains data with shape {band.shape}')\n",
    "    # 基本情報を取得\n",
    "    width = src.width\n",
    "    height = src.height\n",
    "    count = src.count\n",
    "    types = src.dtypes\n",
    "    crs = src.crs\n",
    "    transform = src.transform\n",
    "    \n",
    "    # 最初のバンドのデータを読み込む（内容を確認するため）\n",
    "    first_band = src.read(1)\n",
    "    first_band"
   ]
  },
  {
   "cell_type": "code",
   "execution_count": 6,
   "metadata": {},
   "outputs": [
    {
     "data": {
      "text/plain": [
       "array([[0, 0, 0, ..., 0, 0, 0],\n",
       "       [0, 0, 0, ..., 0, 0, 0],\n",
       "       [0, 0, 0, ..., 0, 0, 0],\n",
       "       ...,\n",
       "       [0, 0, 0, ..., 0, 0, 0],\n",
       "       [0, 0, 0, ..., 0, 0, 0],\n",
       "       [0, 0, 0, ..., 0, 0, 0]], dtype=uint8)"
      ]
     },
     "execution_count": 6,
     "metadata": {},
     "output_type": "execute_result"
    }
   ],
   "source": [
    "src = rasterio.open(file_path) \n",
    "src.read(1).astype(np.uint8)"
   ]
  },
  {
   "cell_type": "code",
   "execution_count": 9,
   "metadata": {},
   "outputs": [],
   "source": [
    "msk = Image.fromarray(src.read(1).astype(np.uint8))"
   ]
  },
  {
   "cell_type": "code",
   "execution_count": 12,
   "metadata": {},
   "outputs": [
    {
     "data": {
      "text/plain": [
       "array([[7, 7, 7, ..., 2, 2, 2],\n",
       "       [7, 7, 7, ..., 2, 2, 2],\n",
       "       [7, 7, 7, ..., 2, 2, 2],\n",
       "       ...,\n",
       "       [7, 7, 7, ..., 5, 2, 2],\n",
       "       [7, 7, 7, ..., 5, 2, 2],\n",
       "       [7, 7, 7, ..., 5, 2, 2]], dtype=uint8)"
      ]
     },
     "execution_count": 12,
     "metadata": {},
     "output_type": "execute_result"
    }
   ],
   "source": [
    "np.array(msk)"
   ]
  },
  {
   "cell_type": "code",
   "execution_count": 14,
   "metadata": {},
   "outputs": [
    {
     "data": {
      "text/plain": [
       "array([[0, 0, 0, ..., 0, 0, 0],\n",
       "       [0, 0, 0, ..., 0, 0, 0],\n",
       "       [0, 0, 0, ..., 0, 0, 0],\n",
       "       ...,\n",
       "       [0, 0, 0, ..., 0, 0, 0],\n",
       "       [0, 0, 0, ..., 0, 0, 0],\n",
       "       [0, 0, 0, ..., 0, 0, 0]], dtype=uint8)"
      ]
     },
     "execution_count": 14,
     "metadata": {},
     "output_type": "execute_result"
    }
   ],
   "source": [
    "first_band = src.read(1)\n",
    "class_8_and_background_mask = np.where(first_band == 8, 1, np.where(first_band == 0, 0, 0)).astype(np.uint8)\n",
    "class_8_and_background_mask"
   ]
  },
  {
   "cell_type": "code",
   "execution_count": null,
   "metadata": {},
   "outputs": [],
   "source": []
  }
 ],
 "metadata": {
  "kernelspec": {
   "display_name": "Python 3",
   "language": "python",
   "name": "python3"
  },
  "language_info": {
   "codemirror_mode": {
    "name": "ipython",
    "version": 3
   },
   "file_extension": ".py",
   "mimetype": "text/x-python",
   "name": "python",
   "nbconvert_exporter": "python",
   "pygments_lexer": "ipython3",
   "version": "3.10.12"
  }
 },
 "nbformat": 4,
 "nbformat_minor": 2
}
