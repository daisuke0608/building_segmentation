{
 "cells": [
  {
   "cell_type": "markdown",
   "metadata": {},
   "source": [
    "# OpenEarhMap Semantinc Segmentation\n",
    "\n",
    "original implementation found at https://github.com/bao18/open_earth_map/blob/main/Demo.ipynb\n",
    "\n",
    "---"
   ]
  },
  {
   "cell_type": "markdown",
   "metadata": {},
   "source": [
    "### Requirements"
   ]
  },
  {
   "cell_type": "code",
   "execution_count": null,
   "metadata": {},
   "outputs": [],
   "source": [
    "!pip install git+https://github.com/bao18/open_earth_map"
   ]
  },
  {
   "cell_type": "code",
   "execution_count": null,
   "metadata": {},
   "outputs": [],
   "source": [
    "import os\n",
    "# import gdown\n",
    "# import zipfile\n",
    "\n",
    "# url = \"https://drive.google.com/uc?export=download&confirm=pbef&id=1SqLqv1RCJdiUFnnfIce78M9nJF_KF11U\"\n",
    "# output = \"OpenEathMap_Mini.zip\"\n",
    "# gdown.download(url, output, quiet=False)\n",
    "\n",
    "# with zipfile.ZipFile(output, 'r') as fzip:\n",
    "#     fzip.extractall()\n",
    "# os.remove(output)"
   ]
  },
  {
   "cell_type": "markdown",
   "metadata": {},
   "source": [
    "### Imports\n",
    "---"
   ]
  },
  {
   "cell_type": "code",
   "execution_count": null,
   "metadata": {},
   "outputs": [],
   "source": [
    "import time\n",
    "import warnings\n",
    "import numpy as np\n",
    "import torch\n",
    "import rasterio\n",
    "import cv2\n",
    "import open_earth_map as oem\n",
    "import torchvision\n",
    "from pathlib import Path\n",
    "import matplotlib.pyplot as plt\n",
    "import os\n",
    "\n",
    "warnings.filterwarnings(\"ignore\")"
   ]
  },
  {
   "cell_type": "markdown",
   "metadata": {},
   "source": [
    "### Defines main parameters"
   ]
  },
  {
   "cell_type": "code",
   "execution_count": null,
   "metadata": {},
   "outputs": [],
   "source": [
    "# Path to the OpenEarthMap directory\n",
    "OEM_DATA_DIR = \"OpenEarthMap_wo/\"\n",
    "\n",
    "# Training and validation file list\n",
    "TRAIN_LIST = os.path.join(OEM_DATA_DIR, \"train.txt\")\n",
    "VAL_LIST = os.path.join(OEM_DATA_DIR, \"val.txt\")\n",
    "\n",
    "IMG_SIZE = 512\n",
    "#buildingと背景\n",
    "N_CLASSES = 2\n",
    "LR = 0.0001\n",
    "BATCH_SIZE = 4\n",
    "NUM_EPOCHS = 10\n",
    "DEVICE = \"cuda\" if torch.cuda.is_available() else \"cpu\"\n",
    "OUTPUT_DIR = \"outputs\"\n",
    "TASK = \"building\"\n",
    "os.makedirs(OUTPUT_DIR, exist_ok=True)"
   ]
  },
  {
   "cell_type": "markdown",
   "metadata": {},
   "source": [
    "### Prepares training and validation file lists."
   ]
  },
  {
   "cell_type": "code",
   "execution_count": null,
   "metadata": {},
   "outputs": [],
   "source": [
    "fns = [f for f in Path(OEM_DATA_DIR).rglob(\"*.tif\") if \"/images/\" in str(f)]\n",
    "train_fns = [str(f) for f in fns if f.name in np.loadtxt(TRAIN_LIST, dtype=str)]\n",
    "val_fns = [str(f) for f in fns if f.name in np.loadtxt(VAL_LIST, dtype=str)]\n",
    "\n",
    "print(\"Total samples      :\", len(fns))\n",
    "print(\"Training samples   :\", len(train_fns))\n",
    "print(\"Validation samples :\", len(val_fns))"
   ]
  },
  {
   "cell_type": "markdown",
   "metadata": {},
   "source": [
    "### Prepares training and validation augmentations."
   ]
  },
  {
   "cell_type": "code",
   "execution_count": null,
   "metadata": {},
   "outputs": [],
   "source": [
    "train_augm = torchvision.transforms.Compose(\n",
    "    [\n",
    "        oem.transforms.Rotate(),\n",
    "        oem.transforms.Crop(IMG_SIZE),\n",
    "    ],\n",
    ")\n",
    "\n",
    "val_augm = torchvision.transforms.Compose(\n",
    "    [\n",
    "        oem.transforms.Resize(IMG_SIZE),\n",
    "    ],\n",
    ")"
   ]
  },
  {
   "cell_type": "markdown",
   "metadata": {},
   "source": [
    "### Defines training and validation dataloaders"
   ]
  },
  {
   "cell_type": "code",
   "execution_count": null,
   "metadata": {},
   "outputs": [],
   "source": [
    "train_data = oem.dataset.OpenEarthMapDataset(\n",
    "    train_fns,\n",
    "    n_classes=N_CLASSES,\n",
    "    augm=train_augm,\n",
    "    task = TASK\n",
    ")\n",
    "\n",
    "val_data = oem.dataset.OpenEarthMapDataset(\n",
    "    val_fns,\n",
    "    n_classes=N_CLASSES,\n",
    "    augm=val_augm,\n",
    "    task = TASK\n",
    ")"
   ]
  },
  {
   "cell_type": "code",
   "execution_count": null,
   "metadata": {},
   "outputs": [],
   "source": [
    "fig, axs = plt.subplots(2, 5, figsize=(5*1.5, 2*1.5))\n",
    "fig.subplots_adjust(top=1, bottom=0, left=0, right=1, hspace=0.01, wspace=0.01)\n",
    "\n",
    "IDX = 1\n",
    "for i in range(5):\n",
    "    img, msk, fn = val_data[i]\n",
    "    print(fn)\n",
    "    img = np.moveaxis(img.numpy(), 0, -1)\n",
    "    msk = oem.utils.make_rgb(np.argmax(msk.numpy(), axis=0))\n",
    "    axs[0, i].imshow(img)\n",
    "    axs[0, i].axis(\"off\")\n",
    "    axs[1, i].imshow(msk)\n",
    "    axs[1, i].axis(\"off\")\n",
    "\n",
    "plt.show()"
   ]
  },
  {
   "cell_type": "code",
   "execution_count": null,
   "metadata": {},
   "outputs": [],
   "source": [
    "train_data_loader = torch.utils.data.DataLoader(\n",
    "    train_data,\n",
    "    batch_size=BATCH_SIZE,\n",
    "    num_workers=10,\n",
    "    shuffle=True,\n",
    "    drop_last=True,\n",
    ")\n",
    "\n",
    "val_data_loader = torch.utils.data.DataLoader(\n",
    "    val_data,\n",
    "    batch_size=BATCH_SIZE,\n",
    "    num_workers=10,\n",
    "    shuffle=False,\n",
    ")"
   ]
  },
  {
   "cell_type": "markdown",
   "metadata": {},
   "source": [
    "### Defines the network architecture, optimizer, and criterion"
   ]
  },
  {
   "cell_type": "code",
   "execution_count": null,
   "metadata": {},
   "outputs": [],
   "source": [
    "network = oem.networks.UNetFormer(in_channels=3, n_classes=N_CLASSES)\n",
    "optimizer = torch.optim.Adam(network.parameters(), lr=LR)\n",
    "criterion = oem.losses.JaccardLoss()\n"
   ]
  },
  {
   "cell_type": "markdown",
   "metadata": {},
   "source": [
    "### Trains and validates the network"
   ]
  },
  {
   "cell_type": "code",
   "execution_count": null,
   "metadata": {},
   "outputs": [],
   "source": [
    "start = time.time()\n",
    "\n",
    "max_score = 0\n",
    "for epoch in range(NUM_EPOCHS):\n",
    "    print(f\"\\nEpoch: {epoch + 1}\")\n",
    "\n",
    "    train_logs = oem.runners.train_epoch(\n",
    "        model=network,\n",
    "        optimizer=optimizer,\n",
    "        criterion=criterion,\n",
    "        dataloader=train_data_loader,\n",
    "        device=DEVICE,\n",
    "    )\n",
    "\n",
    "    valid_logs = oem.runners.valid_epoch(\n",
    "        model=network,\n",
    "        criterion=criterion,\n",
    "        dataloader=val_data_loader,\n",
    "        device=DEVICE,\n",
    "    )\n",
    "    \n",
    "    epoch_score = valid_logs[\"Score\"]\n",
    "    if max_score < epoch_score:\n",
    "        max_score = epoch_score\n",
    "        oem.utils.save_model(\n",
    "            model=network,\n",
    "            epoch=epoch,\n",
    "            best_score=max_score,\n",
    "            model_name=\"model.pth\",\n",
    "            output_dir=OUTPUT_DIR,\n",
    "        )\n",
    "\n",
    "print(\"Elapsed time: {:.3f} min\".format((time.time() - start) / 60.0))"
   ]
  },
  {
   "cell_type": "markdown",
   "metadata": {},
   "source": [
    "# Testing "
   ]
  },
  {
   "cell_type": "markdown",
   "metadata": {},
   "source": [
    "### Prepares testing files"
   ]
  },
  {
   "cell_type": "code",
   "execution_count": null,
   "metadata": {},
   "outputs": [],
   "source": [
    "TEST_LIST = os.path.join(OEM_DATA_DIR, \"val.txt\")\n",
    "PREDS_DIR = \"predictions_kasika\"\n",
    "os.makedirs(PREDS_DIR, exist_ok=True)\n",
    "\n",
    "img_paths = [f for f in Path(OEM_DATA_DIR).rglob(\"*.tif\") if \"/images/\" in str(f)]\n",
    "test_fns = [str(f) for f in img_paths if f.name in np.loadtxt(TEST_LIST, dtype=str)]\n",
    "\n",
    "print(\"Total samples   :\", len(img_paths))\n",
    "print(\"Testing samples :\", len(test_fns))"
   ]
  },
  {
   "cell_type": "code",
   "execution_count": null,
   "metadata": {},
   "outputs": [],
   "source": [
    "test_fns"
   ]
  },
  {
   "cell_type": "markdown",
   "metadata": {},
   "source": [
    "### Defines test dataloader"
   ]
  },
  {
   "cell_type": "code",
   "execution_count": null,
   "metadata": {},
   "outputs": [],
   "source": [
    "test_data = oem.dataset.OpenEarthMapDataset(test_fns, n_classes=N_CLASSES, augm=None, task = TASK)\n"
   ]
  },
  {
   "cell_type": "markdown",
   "metadata": {},
   "source": [
    "### Loads trained network"
   ]
  },
  {
   "cell_type": "code",
   "execution_count": null,
   "metadata": {},
   "outputs": [],
   "source": [
    "network = oem.networks.UNetFormer(in_channels=3, n_classes=N_CLASSES,backbone_name=\"seresnet152d\")\n",
    "network = oem.utils.load_checkpoint(network, model_name=\"unetformer_model_building_100.pth\", model_dir=\"outputs\")"
   ]
  },
  {
   "cell_type": "markdown",
   "metadata": {},
   "source": [
    "### Makes predictions"
   ]
  },
  {
   "cell_type": "code",
   "execution_count": null,
   "metadata": {},
   "outputs": [],
   "source": [
    "NPLOT = 6\n",
    "idxs = np.argsort(np.random.rand(len(test_fns)))[:NPLOT]\n",
    "\n",
    "fig, axs = plt.subplots(2, NPLOT, figsize=(NPLOT*1.5, 2*1.5))\n",
    "fig.subplots_adjust(top=1, bottom=0, left=0, right=1, hspace=0.01, wspace=0.01)\n",
    "\n",
    "network.eval().to(DEVICE)\n",
    "for i, idx in enumerate(idxs):\n",
    "    img, fn = test_data[idx][0], test_data[idx][2]\n",
    "\n",
    "    with torch.no_grad():\n",
    "        prd = network(img.unsqueeze(0).to(DEVICE)).squeeze(0).cpu()\n",
    "    prd = oem.utils.make_rgb(np.argmax(prd.numpy(), axis=0))\n",
    "\n",
    "    fout = os.path.join(PREDS_DIR, fn.split(\"/\")[-1])\n",
    "    with rasterio.open(fn, \"r\") as src:\n",
    "        profile = src.profile\n",
    "        prd = cv2.resize(\n",
    "            prd,\n",
    "            (profile[\"width\"], profile[\"height\"]),\n",
    "            interpolation=cv2.INTER_NEAREST,\n",
    "        )\n",
    "        with rasterio.open(fout, \"w\", **profile) as dst:\n",
    "            for idx in src.indexes:\n",
    "                dst.write(prd[:, :, idx - 1], idx)\n",
    "\n",
    "    img = np.moveaxis(img.numpy(), 0, -1)\n",
    "    axs[0, i].imshow(img)\n",
    "    axs[0, i].set_title(fn.split(\"/\")[-1][:-4])    \n",
    "    axs[0, i].axis(\"off\")\n",
    "    axs[1, i].imshow(prd)\n",
    "    axs[1, i].axis(\"off\")\n",
    "plt.show()"
   ]
  }
 ],
 "metadata": {
  "kernelspec": {
   "display_name": "pcc",
   "language": "python",
   "name": "python3"
  },
  "language_info": {
   "codemirror_mode": {
    "name": "ipython",
    "version": 3
   },
   "file_extension": ".py",
   "mimetype": "text/x-python",
   "name": "python",
   "nbconvert_exporter": "python",
   "pygments_lexer": "ipython3",
   "version": "3.10.12"
  },
  "orig_nbformat": 4,
  "vscode": {
   "interpreter": {
    "hash": "ef1d4cdf562cc6e627487cf036777082fc88a8249f57bc944ee9b50a9e7d8b9e"
   }
  }
 },
 "nbformat": 4,
 "nbformat_minor": 2
}
